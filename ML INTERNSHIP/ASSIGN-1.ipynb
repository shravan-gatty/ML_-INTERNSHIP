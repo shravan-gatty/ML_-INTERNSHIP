{
 "cells": [
  {
   "cell_type": "code",
   "execution_count": 1,
   "metadata": {},
   "outputs": [
    {
     "name": "stdout",
     "output_type": "stream",
     "text": [
      "Updated List :  ['hi', 'hi']\n",
      "Count for 123 :  2\n",
      "Count for zara :  1\n",
      "Extended List :  [123, 'xyz', 'zara', 'abc', 123, 2009, 'manni']\n",
      "Final List :  [123, 20010, 'xyz', 'zara', 'abc']\n",
      "123\n",
      "xyz\n",
      "zara\n",
      "abc\n",
      "A List :  abc\n",
      "B List :  zara\n",
      "B List :  xyz\n",
      "B List :  123\n",
      "List :  [123, 'zara', 'abc', 'xyz']\n",
      "['!', '#', '$', '%', '&', '@', 'Abc', 'ZAra', 'Zara', '^', 'xyz', 'xyz', 'zara']\n",
      "[9, 8, 7, 6, 5, 4, 3, 2, 1]\n"
     ]
    }
   ],
   "source": [
    "aList = []\n",
    "aList.append('hi')\n",
    "aList.append('hi')\n",
    "print (\"Updated List : \", aList)\n",
    "\n",
    "##\n",
    "##\n",
    "aList = [123, 'xyz', 'zara', 'abc', 123]\n",
    "\n",
    "print (\"Count for 123 : \", aList.count(123))\n",
    "print (\"Count for zara : \", aList.count('zara'))\n",
    "##\n",
    "##\n",
    "aList = [123, 'xyz', 'zara', 'abc', 123];\n",
    "bList = [2009, 'manni'];\n",
    "aList.extend(bList)\n",
    "print (\"Extended List : \", aList)\n",
    "##\n",
    "##\n",
    "##\n",
    "##print \"Extended List : \", aList\n",
    "##aList=aList+bList\n",
    "#print \"Extended List : \", aList\n",
    "##\n",
    "##aList = [123, 'xyz', 'zara', 'abc',123];\n",
    "##\n",
    "##print (\"Index for 123 : \", aList.index ( 1236))\n",
    "##aList[aList.index ( 123)]=0\n",
    "####print aList\n",
    "##print \"Index for 123 : \", aList.index  (123) \n",
    "##print \"Index for zara : \", aList.index ( 'zara' )\n",
    "##\n",
    "##\n",
    "aList = [123, 'xyz', 'zara', 'abc']\n",
    "\n",
    "aList.insert( 1, 20010)\n",
    "##\n",
    "print (\"Final List : \", aList)\n",
    "##\n",
    "##\n",
    "aList = [123, 'xyz', 'zara', 'abc'];\n",
    "\n",
    "for i in aList:\n",
    "    print (i)\n",
    "##\n",
    "print (\"A List : \", aList.pop())\n",
    "print (\"B List : \", aList.pop())\n",
    "print (\"B List : \", aList.pop())\n",
    "print (\"B List : \", aList.pop())\n",
    "\n",
    "##\n",
    "##\n",
    "##\n",
    "aList = [123, 'xyz', 'zara', 'abc', 'xyz'];\n",
    "\n",
    "aList.remove('xyz');\n",
    "\n",
    "print (\"List : \", aList)\n",
    "##aList.remove('xyz')\n",
    "##print \"List : \", aList\n",
    "##aList.remove('abc');\n",
    "##print \"List : \", aList\n",
    "##\n",
    "##\n",
    "##\n",
    "##\n",
    "##\n",
    "aList = [ 'xyz', 'zara','ZAra' ,'Abc', 'Zara','xyz','!','@','#','$','%','^','&']\n",
    "a = [1,2,3,4,5,6,7,8,9]\n",
    "\n",
    "aList.sort()\n",
    "a.sort(reverse=True)\n",
    "\n",
    "print (aList)\n",
    "print (a)\n",
    "######\n",
    "##\n"
   ]
  },
  {
   "cell_type": "code",
   "execution_count": 2,
   "metadata": {},
   "outputs": [
    {
     "name": "stdout",
     "output_type": "stream",
     "text": [
      "Count for 123 :  2\n",
      "Count for zara :  1\n"
     ]
    }
   ],
   "source": [
    "aList = [123, 'xyz', 'zara', 'abc', 123]\n",
    "\n",
    "print (\"Count for 123 : \", aList.count(123))\n",
    "print (\"Count for zara : \", aList.count('zara'))"
   ]
  },
  {
   "cell_type": "code",
   "execution_count": 3,
   "metadata": {},
   "outputs": [
    {
     "name": "stdout",
     "output_type": "stream",
     "text": [
      "Extended List :  [123, 'xyz', 'zara', 'abc', 123, 2009, 'manni']\n"
     ]
    }
   ],
   "source": [
    "aList = [123, 'xyz', 'zara', 'abc', 123];\n",
    "bList = [2009, 'manni'];\n",
    "aList.extend(bList)\n",
    "print (\"Extended List : \", aList)"
   ]
  },
  {
   "cell_type": "code",
   "execution_count": 11,
   "metadata": {},
   "outputs": [
    {
     "ename": "SyntaxError",
     "evalue": "invalid syntax (<ipython-input-11-31c6551f0c2b>, line 2)",
     "output_type": "error",
     "traceback": [
      "\u001b[1;36m  File \u001b[1;32m\"<ipython-input-11-31c6551f0c2b>\"\u001b[1;36m, line \u001b[1;32m2\u001b[0m\n\u001b[1;33m    print  a.capitalize()\u001b[0m\n\u001b[1;37m           ^\u001b[0m\n\u001b[1;31mSyntaxError\u001b[0m\u001b[1;31m:\u001b[0m invalid syntax\n"
     ]
    }
   ],
   "source": [
    "a = \"this is string example....wow!!!   \"\n",
    "print  a.capitalize()\n",
    "###\n",
    "##\n",
    "##\n",
    "str1 = \"chetan\"\n",
    "print  str1.center(200, '@')\n",
    "\n",
    "\n",
    "##\n",
    "##\n",
    "##\n",
    "##\n",
    "str = \" Rahul \"\n",
    "print str.center(100,' ')\n",
    "##\n",
    "##\n",
    "##\n",
    "##\n",
    "##\n",
    "str = \"this is  this is string example....wow is a great person        is!!!\"\n",
    "sub = \"is\"\n",
    "hel = 'this is'\n",
    "print \"str.count('this is',0,40) : \", str.count(hel,0,40)\n",
    "\n",
    "sub = \"is\"\n",
    "print \"str.count(sub) : \", str.count(sub)\n",
    "##\n",
    "##\n",
    "##\n",
    "##\n",
    "##\n",
    "##\n",
    "####\n",
    "####\n",
    "Str = \"this is string example....wow!!!\"\n",
    "Str2 = Str.encode('base64','strict')\n",
    "\n",
    "print Str2\n",
    "Str = \"this is string example....wow!!!\"\n",
    "Str2 = Str.encode('base64','strict')\n",
    "print Str2\n",
    "Str = \"this is string example....tow!!!\"\n",
    "Str2 = Str.encode('base64','strict')\n",
    "\n",
    "\n",
    "print Str\n",
    "print Str2\n",
    "\n",
    "##print \"Encoded String: \" + Str\n",
    "print \"Decoded String: \" + Str2.decode('base64','strict')\n",
    "####\n",
    "####\n",
    "##\n",
    "##\n",
    "##\n",
    "##\n",
    "##\n",
    "##\n",
    "a=['sdasa','asasa sharma','asasas','sdadsdsd sharma']\n",
    "str = \"this is string example....wow!!!\"\n",
    "\n",
    "suffix = \" example....wow!!!\"\n",
    "print str.endswith(suffix)\n",
    "\n",
    "##\n",
    "##suffix = \"is\"\n",
    "##print str.endswith(suffix, 2, 4)\n",
    "##\n",
    "##\n",
    "##\n",
    "\n",
    "str = \"this is\\tstring example....wow!!!\"\n",
    "\n",
    "\n",
    "print \"Original string: \" + str\n",
    "print \"Defualt exapanded tab: \" +  str.expandtabs()\n",
    "print \"Double exapanded tab: \" +  str.expandtabs(50)\n",
    "\n",
    "\n",
    "\n",
    "\n",
    "\n",
    "str1 = \"this is string examplwowe....wow!!!  hi wow\"\n",
    "str2 = \"string\"\n",
    "\n",
    "print str1.find(str2,27,40)\n",
    "\n",
    "print str1.find(str2)\n",
    "\n",
    "\n",
    "print 'index'\n",
    "\n",
    "\n",
    "str1 = \"this is string example.... is wow!!!\"\n",
    "str2 = \"is\"\n",
    "\n",
    "print str1.index(str2)\n",
    "print str1.index(str2)\n",
    "print str1.find(str2)\n",
    "print str1.find(str2)\n",
    "\n",
    "\n",
    "\n",
    "str = \"this2009\"\n",
    "print str.isalnum()\n",
    "\n",
    "str = \"this is string example....wow!!!\"\n",
    "print str.isalnum()\n",
    "\n",
    "\n",
    "print 'isalpha'\n",
    "\n",
    "\n",
    "str = \"this55\"\n",
    "print str.isalpha()\n",
    "\n",
    "str = \"this\"\n",
    "print str.isalpha()\n",
    "\n",
    "\n",
    "print 'isdigit'\n",
    "\n",
    "\n",
    "str = \"123456\"  # Only digit in this string\n",
    "print str.isdigit()\n",
    "\n",
    "str = \"this is string example....wow!!!\"\n",
    "print str.isdigit()\n",
    "\n",
    "\n",
    "\n",
    "\n",
    "print 'is lower '\n",
    "\n",
    "\n",
    "str = \"THIS is string example....wow!!!\"\n",
    "print str.islower()\n",
    "\n",
    "str = \"this is string example....wow!!!\"\n",
    "print str.islower()\n",
    "\n",
    "\n",
    "print 'isnumeric'\n",
    "\n",
    "str = u\"this2009\";  \n",
    "print str.isnumeric()\n",
    "\n",
    "str = u\"23443434\";\n",
    "print str.isnumeric()\n",
    "\n",
    "print 'istitle'\n",
    "\n",
    "str = \"This Is String Example...Wow!!!\"\n",
    "print str.istitle()\n",
    "\n",
    "str = \"This is string example....wow!!!\"\n",
    "print str.istitle()\n",
    "\n",
    "\n",
    "print 'isupper'\n",
    "\n",
    "\n",
    "str = \"THIS IS STRING EXAMPLE....WOW!!!\"\n",
    "print str.isupper()\n",
    "\n",
    "str = \"THIS is string example....wow!!!\"\n",
    "print str.isupper()\n",
    "\n",
    "print 'join'\n",
    "\n",
    "s = \"-\";\n",
    "seq = (\"a\", \"b\", \"c\"); # This is sequence of strings.\n",
    "print s.join( seq )\n",
    "\n",
    "\n",
    "print 'lower'\n",
    "\n",
    "\n",
    "str = \"t\";\n",
    "\n",
    "print \"Length of the string: \", len(str)\n",
    "\n",
    "str = \"THIS IS STRING EXAMPLE....WOW!!!\";\n",
    "\n",
    "print str.lower()\n",
    "\n",
    "\n",
    "print 'lsstrip'\n",
    "\n",
    "\n",
    "str = \"88888this is string 8 example....wow!!!\";\n",
    "print str.lstrip()\n",
    "print str.lstrip('8')\n",
    "\n",
    "print 'translate'\n",
    "##\n",
    "##intab = \"aeiou\"\n",
    "##outtab = \"12345\"\n",
    "##trantab = maketrans(intab, outtab)\n",
    "##\n",
    "##str = \"this is string example....wow!!!\"\n",
    "##print str.translate(trantab)\n",
    "\n",
    "\n",
    "print 'max min'\n",
    "\n",
    "\n",
    "str = \"this is really a string example....wow!!!\";\n",
    "print \"Max character: \" + max(str)\n",
    "\n",
    "str = \"this is a string example....wow!!!\";\n",
    "print \"Max character: \" + max(str)\n",
    "\n",
    "\n",
    "str = \"this-is-real-string-example....wow!!!\";\n",
    "print \"Min character: \" + min(str)\n",
    "\n",
    "str = \"this-is-a-string-example....wow!!!\";\n",
    "print \"Min character: \" + min(str)\n",
    "\n",
    "\n",
    "str = \"this-is-real-string-example....wow!!!\";\n",
    "print \"Min character: \" + min(str)\n",
    "\n",
    "str = \"this-is-a-string-example....wow!!!\";\n",
    "print \"Min character: \" + min(str)\n",
    "\n",
    "\n",
    "str1 = \"this is really a string example....wowis!!!\";\n",
    "str2 = \"is\";\n",
    "\n",
    "print str1.rfind(str2)\n",
    "\n",
    "print str1.rfind(str2, 0, 10)\n",
    "print str1.rfind(str2, 10, 0)\n",
    "\n",
    "print str1.find(str2)\n",
    "print str1.find(str2, 0, 10)\n",
    "print str1.find(str2, 10, 0)\n",
    "\n",
    "\n",
    "str1 = \"this is string is example....wow!!!\";\n",
    "str2 = \"is\";\n",
    "\n",
    "print str1.rindex(str2)\n",
    "print str1.index(str2)\n",
    "\n",
    "print ' rjustttttttttttttttttttttttttttttttttttttttttttttttttttt'\n",
    "str = \"this is string example....wow!!!\";\n",
    "\n",
    "print str.rjust(100, '0')\n",
    "\n",
    "\n",
    "str = \"     this is string example....wow!!!     \";\n",
    "print str.rstrip()\n",
    "str = \"88888888this is string example....wow!!!8888888\";\n",
    "print str.rstrip('8')\n",
    "\n",
    "\n",
    "\n",
    "str = \"Line1-abcdef \\nLine2-abc \\nLine4-abcd\";\n",
    "print str.split('-' )\n",
    "print str.split(' ', 1 )\n",
    "\n",
    "\n",
    "\n",
    "str = \"Line1-a b c d e f\\nLine2- a b c\\n\\nLine4- a b c d\";\n",
    "print str.splitlines( )\n",
    "print str.splitlines( 0 )\n",
    "print str.splitlines( 3 )\n",
    "print str.splitlines( 4 )\n",
    "print str.splitlines( 5 )\n",
    "\n",
    "\n",
    "str = \"this is string example....wow!!!\";\n",
    "print str.startswith( 'this' )\n",
    "print str.startswith( 'is', 2, 4 )\n",
    "print str.startswith( 'this', 2, 4 )\n",
    "\n",
    "\n",
    "str = \"0000000this is string example....wow!!!0000000\";\n",
    "print str.strip( '0' )\n",
    "\n",
    "\n",
    "str = \"this is string example....wow!!!\";\n",
    "print str.swapcase()\n",
    "\n",
    "str = \"THIS IS STRING EXAMPLE....WOW!!!\";\n",
    "print str.swapcase()\n",
    "\n",
    "str = \"this is string example....wow!!!\";\n",
    "print str.title()\n",
    "\n",
    "##\n",
    "##intab = \"aeiou\"\n",
    "##outtab = \"12345\"\n",
    "##trantab = maketrans(intab, outtab)\n",
    "##\n",
    "##str = \"this is string example....wow!!!\";\n",
    "##print str.translate(trantab)\n",
    "\n",
    "\n",
    "str = \"this is string example....wow!!!\";\n",
    "\n",
    "print \"str.capitalize() : \", str.upper()\n",
    "\n",
    "\n",
    "str = \"this is string example....wow!!!\";\n",
    "\n",
    "print str.zfill(40)\n",
    "print str.zfill(50)\n",
    "\n",
    "\n",
    "str = \"this is string example....wow!!!\";\n",
    "\n",
    "print str.zfill(40)\n",
    "print str.zfill(50)\n"
   ]
  },
  {
   "cell_type": "code",
   "execution_count": 10,
   "metadata": {},
   "outputs": [
    {
     "name": "stdout",
     "output_type": "stream",
     "text": [
      "                                               Rahul                                                \n"
     ]
    }
   ],
   "source": [
    "str = \" Rahul \"\n",
    "print (str.center(100,' '))\n"
   ]
  },
  {
   "cell_type": "code",
   "execution_count": 13,
   "metadata": {},
   "outputs": [
    {
     "ename": "LookupError",
     "evalue": "'base64' is not a text encoding; use codecs.encode() to handle arbitrary codecs",
     "output_type": "error",
     "traceback": [
      "\u001b[1;31m---------------------------------------------------------------------------\u001b[0m",
      "\u001b[1;31mLookupError\u001b[0m                               Traceback (most recent call last)",
      "\u001b[1;32m<ipython-input-13-35afd657f656>\u001b[0m in \u001b[0;36m<module>\u001b[1;34m\u001b[0m\n\u001b[0;32m      1\u001b[0m \u001b[0mStr\u001b[0m \u001b[1;33m=\u001b[0m \u001b[1;34m\"this is string example....wow!!!\"\u001b[0m\u001b[1;33m\u001b[0m\u001b[1;33m\u001b[0m\u001b[0m\n\u001b[1;32m----> 2\u001b[1;33m \u001b[0mStr2\u001b[0m \u001b[1;33m=\u001b[0m \u001b[0mStr\u001b[0m\u001b[1;33m.\u001b[0m\u001b[0mencode\u001b[0m\u001b[1;33m(\u001b[0m\u001b[1;34m'base64'\u001b[0m\u001b[1;33m,\u001b[0m\u001b[1;34m'strict'\u001b[0m\u001b[1;33m)\u001b[0m\u001b[1;33m\u001b[0m\u001b[1;33m\u001b[0m\u001b[0m\n\u001b[0m\u001b[0;32m      3\u001b[0m \u001b[1;33m\u001b[0m\u001b[0m\n\u001b[0;32m      4\u001b[0m \u001b[0mprint\u001b[0m \u001b[1;33m(\u001b[0m\u001b[0mStr2\u001b[0m\u001b[1;33m)\u001b[0m\u001b[1;33m\u001b[0m\u001b[1;33m\u001b[0m\u001b[0m\n\u001b[0;32m      5\u001b[0m \u001b[0mStr\u001b[0m \u001b[1;33m=\u001b[0m \u001b[1;34m\"this is string example....wow!!!\"\u001b[0m\u001b[1;33m\u001b[0m\u001b[1;33m\u001b[0m\u001b[0m\n",
      "\u001b[1;31mLookupError\u001b[0m: 'base64' is not a text encoding; use codecs.encode() to handle arbitrary codecs"
     ]
    }
   ],
   "source": [
    "Str = \"this is string example....wow!!!\"\n",
    "Str2 = Str.encode('base64','strict')\n",
    "\n",
    "print (Str2)\n",
    "Str = \"this is string example....wow!!!\"\n",
    "Str2 = Str.encode('base64','strict')\n",
    "print (Str2)\n",
    "Str = \"this is string example....tow!!!\"\n",
    "Str2 = Str.encode('base64','strict')\n"
   ]
  },
  {
   "cell_type": "markdown",
   "metadata": {},
   "source": [
    "assignment 7:\n",
    "a=['candy','brain','damu','sujoy']\n",
    "b=[90,95,60,79]"
   ]
  },
  {
   "cell_type": "code",
   "execution_count": 16,
   "metadata": {},
   "outputs": [
    {
     "name": "stdout",
     "output_type": "stream",
     "text": [
      "['brain', 'candy', 'damu', 'sujoy']\n",
      "[95, 90, 79, 60]\n"
     ]
    }
   ],
   "source": [
    "a=['candy','brain','damu','sujoy']\n",
    "b=[90,95,60,79]\n",
    "for i in range(4):\n",
    "    a[i]==b[i]\n",
    "    i=i+1\n",
    "\n",
    "a.sort()\n",
    "b.sort(reverse=True)\n",
    "print(a)\n",
    "print(b)"
   ]
  },
  {
   "cell_type": "markdown",
   "metadata": {},
   "source": [
    "X = [[12,7,3],[4 ,5,6],[7 ,8,9]]\n",
    "\n",
    "Y = [[5,8,1],[6,7,3],[4,5,9]]\n",
    "\n",
    "result = [[0,0,0],[0,0,0],[0,0,0]]"
   ]
  },
  {
   "cell_type": "code",
   "execution_count": 1,
   "metadata": {},
   "outputs": [
    {
     "name": "stdout",
     "output_type": "stream",
     "text": [
      "[17, 15, 4]\n",
      "[10, 12, 9]\n",
      "[11, 13, 18]\n"
     ]
    }
   ],
   "source": [
    "X = [[12,7,3],[4 ,5,6],[7 ,8,9]]\n",
    "\n",
    "Y = [[5,8,1],[6,7,3],[4,5,9]]\n",
    "\n",
    "result = [[0,0,0],[0,0,0],[0,0,0]]\n",
    "\n",
    "for i in range(len(X)):  \n",
    "    for j in range(len(X[0])):\n",
    "        result[i][j] = X[i][j] + Y[i][j]\n",
    " \n",
    "for s in result:\n",
    "    print(s)"
   ]
  },
  {
   "cell_type": "markdown",
   "metadata": {},
   "source": [
    "Assignment 1: # take a 3x3 matrix \n",
    "A = [[12, 7, 3], \n",
    "\t[4, 5, 6], \n",
    "\t[7, 8, 9]] \n",
    "\n",
    "# take a 3x4 matrix\t \n",
    "B = [[5, 8, 1, 2], \n",
    "\t[6, 7, 3, 0], \n",
    "\t[4, 5, 9, 1]] \n",
    "\t\n",
    "result = [[0, 0, 0, 0], \n",
    "\t\t[0, 0, 0, 0], \n",
    "\t\t[0, 0, 0, 0]] "
   ]
  },
  {
   "cell_type": "code",
   "execution_count": 5,
   "metadata": {},
   "outputs": [
    {
     "ename": "TypeError",
     "evalue": "'list' object cannot be interpreted as an integer",
     "output_type": "error",
     "traceback": [
      "\u001b[1;31m---------------------------------------------------------------------------\u001b[0m",
      "\u001b[1;31mTypeError\u001b[0m                                 Traceback (most recent call last)",
      "\u001b[1;32m<ipython-input-5-e0cbda8dd39e>\u001b[0m in \u001b[0;36m<module>\u001b[1;34m\u001b[0m\n\u001b[0;32m      2\u001b[0m \u001b[0mpassword\u001b[0m\u001b[1;33m=\u001b[0m\u001b[1;33m[\u001b[0m\u001b[1;36m123\u001b[0m\u001b[1;33m,\u001b[0m\u001b[1;36m456\u001b[0m\u001b[1;33m,\u001b[0m\u001b[1;36m789\u001b[0m\u001b[1;33m,\u001b[0m\u001b[1;36m12345\u001b[0m\u001b[1;33m]\u001b[0m\u001b[1;33m\u001b[0m\u001b[1;33m\u001b[0m\u001b[0m\n\u001b[0;32m      3\u001b[0m \u001b[0mi\u001b[0m\u001b[1;33m=\u001b[0m\u001b[0mpassword\u001b[0m\u001b[1;33m\u001b[0m\u001b[1;33m\u001b[0m\u001b[0m\n\u001b[1;32m----> 4\u001b[1;33m \u001b[1;32mfor\u001b[0m \u001b[0mi\u001b[0m\u001b[1;33m,\u001b[0m\u001b[0mj\u001b[0m \u001b[1;32min\u001b[0m \u001b[0menumerate\u001b[0m\u001b[1;33m(\u001b[0m\u001b[0musername\u001b[0m\u001b[1;33m,\u001b[0m\u001b[0mpassword\u001b[0m\u001b[1;33m)\u001b[0m\u001b[1;33m:\u001b[0m\u001b[1;33m\u001b[0m\u001b[1;33m\u001b[0m\u001b[0m\n\u001b[0m\u001b[0;32m      5\u001b[0m     \u001b[0mprint\u001b[0m\u001b[1;33m(\u001b[0m\u001b[0mi\u001b[0m\u001b[1;33m,\u001b[0m\u001b[0mj\u001b[0m\u001b[1;33m)\u001b[0m\u001b[1;33m\u001b[0m\u001b[1;33m\u001b[0m\u001b[0m\n",
      "\u001b[1;31mTypeError\u001b[0m: 'list' object cannot be interpreted as an integer"
     ]
    }
   ],
   "source": [
    "username=['Rahul' ,'Rajesh','Vijay','Kamal']\n",
    "password=[123,456,789,12345]\n",
    "for i,j in enumerate(username,password):\n",
    "    print(i,j)"
   ]
  },
  {
   "cell_type": "code",
   "execution_count": 6,
   "metadata": {},
   "outputs": [
    {
     "name": "stdout",
     "output_type": "stream",
     "text": [
      "enter the user namekkj\n",
      "enter the password123\n"
     ]
    }
   ],
   "source": [
    "username=['Rahul' ,'Rajesh','Vijay','Kamal']\n",
    "password=['123','456','789','12345']\n",
    "##\n",
    "##\n",
    "user=input('enter the user name')\n",
    "password_input=input('enter the password')\n",
    "for i,j in enumerate(username):\n",
    "     \n",
    "        if user==j:\n",
    "               if password_input==password[i]:\n",
    "                       print ('welcome',user)"
   ]
  },
  {
   "cell_type": "code",
   "execution_count": 18,
   "metadata": {},
   "outputs": [
    {
     "ename": "NameError",
     "evalue": "name 'codecs' is not defined",
     "output_type": "error",
     "traceback": [
      "\u001b[1;31m---------------------------------------------------------------------------\u001b[0m",
      "\u001b[1;31mNameError\u001b[0m                                 Traceback (most recent call last)",
      "\u001b[1;32m<ipython-input-18-7efccc1e699b>\u001b[0m in \u001b[0;36m<module>\u001b[1;34m\u001b[0m\n\u001b[0;32m      1\u001b[0m \u001b[0mStr\u001b[0m \u001b[1;33m=\u001b[0m \u001b[1;34m\"this is string example....wow!!!\"\u001b[0m\u001b[1;33m\u001b[0m\u001b[1;33m\u001b[0m\u001b[0m\n\u001b[1;32m----> 2\u001b[1;33m \u001b[0mStr2\u001b[0m \u001b[1;33m=\u001b[0m \u001b[0mcodecs\u001b[0m\u001b[1;33m.\u001b[0m\u001b[0mencode\u001b[0m\u001b[1;33m(\u001b[0m\u001b[1;34m'base64'\u001b[0m\u001b[1;33m,\u001b[0m\u001b[1;34m'strict'\u001b[0m\u001b[1;33m)\u001b[0m\u001b[1;33m\u001b[0m\u001b[1;33m\u001b[0m\u001b[0m\n\u001b[0m\u001b[0;32m      3\u001b[0m \u001b[0mprint\u001b[0m \u001b[1;33m(\u001b[0m\u001b[0mStr2\u001b[0m\u001b[1;33m)\u001b[0m\u001b[1;33m\u001b[0m\u001b[1;33m\u001b[0m\u001b[0m\n\u001b[0;32m      4\u001b[0m \u001b[0mStr\u001b[0m \u001b[1;33m=\u001b[0m \u001b[1;34m\"this is string example....wow!!!\"\u001b[0m\u001b[1;33m\u001b[0m\u001b[1;33m\u001b[0m\u001b[0m\n\u001b[0;32m      5\u001b[0m \u001b[0mStr2\u001b[0m \u001b[1;33m=\u001b[0m \u001b[0mStr\u001b[0m\u001b[1;33m.\u001b[0m\u001b[0mencode\u001b[0m\u001b[1;33m(\u001b[0m\u001b[1;34m'base64'\u001b[0m\u001b[1;33m,\u001b[0m\u001b[1;34m'strict'\u001b[0m\u001b[1;33m)\u001b[0m\u001b[1;33m\u001b[0m\u001b[1;33m\u001b[0m\u001b[0m\n",
      "\u001b[1;31mNameError\u001b[0m: name 'codecs' is not defined"
     ]
    }
   ],
   "source": [
    "Str = \"this is string example....wow!!!\"\n",
    "Str2 = Str.encode('base64','strict')\n",
    "\n",
    "print (Str2)\n",
    "Str = \"this is string example....wow!!!\"\n",
    "Str2 = Str.encode('base64','strict')\n",
    "print (Str2)\n",
    "Str = \"this is string example....tow!!!\"\n",
    "Str2 = Str.encode('base64','strict')"
   ]
  },
  {
   "cell_type": "code",
   "execution_count": 20,
   "metadata": {},
   "outputs": [
    {
     "name": "stdout",
     "output_type": "stream",
     "text": [
      "True\n"
     ]
    }
   ],
   "source": [
    "a=['sdasa','asasa sharma','asasas','sdadsdsd sharma']\n",
    "str = \"this is string example....wow!!!\"\n",
    "\n",
    "suffix = \" example....wow!!!\"\n",
    "print(str.endswith(suffix))"
   ]
  },
  {
   "cell_type": "code",
   "execution_count": 28,
   "metadata": {},
   "outputs": [
    {
     "name": "stdout",
     "output_type": "stream",
     "text": [
      "True\n"
     ]
    }
   ],
   "source": [
    "suffix = \"is\"\n",
    "print(str.endswith(suffix, 2,4))"
   ]
  },
  {
   "cell_type": "code",
   "execution_count": 37,
   "metadata": {},
   "outputs": [
    {
     "name": "stdout",
     "output_type": "stream",
     "text": [
      "True\n"
     ]
    }
   ],
   "source": [
    "suffix = \"this\"\n",
    "print(str.endswith(suffix, 0,4))"
   ]
  },
  {
   "cell_type": "code",
   "execution_count": 42,
   "metadata": {},
   "outputs": [
    {
     "name": "stdout",
     "output_type": "stream",
     "text": [
      "True\n"
     ]
    }
   ],
   "source": [
    "suffix = \"is\"\n",
    "print(str.endswith(suffix, 5,7))"
   ]
  },
  {
   "cell_type": "code",
   "execution_count": 44,
   "metadata": {},
   "outputs": [
    {
     "name": "stdout",
     "output_type": "stream",
     "text": [
      "Original string: this is\tstring example....wow!!!\n",
      "Defualt exapanded tab: this is string example....wow!!!\n",
      "Double exapanded tab: this is                                           string example....wow!!!\n"
     ]
    }
   ],
   "source": [
    "str = \"this is\\tstring example....wow!!!\"\n",
    "\n",
    "\n",
    "print (\"Original string: \" + str)\n",
    "print (\"Defualt exapanded tab: \" +  str.expandtabs())\n",
    "print (\"Double exapanded tab: \" +  str.expandtabs(50))\n"
   ]
  },
  {
   "cell_type": "code",
   "execution_count": null,
   "metadata": {},
   "outputs": [],
   "source": []
  }
 ],
 "metadata": {
  "kernelspec": {
   "display_name": "Python 3",
   "language": "python",
   "name": "python3"
  },
  "language_info": {
   "codemirror_mode": {
    "name": "ipython",
    "version": 3
   },
   "file_extension": ".py",
   "mimetype": "text/x-python",
   "name": "python",
   "nbconvert_exporter": "python",
   "pygments_lexer": "ipython3",
   "version": "3.7.6"
  }
 },
 "nbformat": 4,
 "nbformat_minor": 4
}

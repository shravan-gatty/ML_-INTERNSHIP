{
 "cells": [
  {
   "cell_type": "markdown",
   "metadata": {},
   "source": [
    "assignment 7: a=['candy','brain','damu','sujoy'] b=[90,95,60,79]"
   ]
  },
  {
   "cell_type": "code",
   "execution_count": null,
   "metadata": {},
   "outputs": [],
   "source": [
    "a=['candy','brain','damu','sujoy']\n",
    "b=[90,95,60,79]\n",
    "for i in range(4):\n",
    "    a[i]==b[i]\n",
    "    i=i+1\n",
    "\n",
    "a.sort()\n",
    "b.sort(reverse=True)\n",
    "print(a)\n",
    "print(b)"
   ]
  },
  {
   "cell_type": "code",
   "execution_count": 170,
   "metadata": {},
   "outputs": [
    {
     "ename": "TypeError",
     "evalue": "can only concatenate str (not \"int\") to str",
     "output_type": "error",
     "traceback": [
      "\u001b[1;31m---------------------------------------------------------------------------\u001b[0m",
      "\u001b[1;31mTypeError\u001b[0m                                 Traceback (most recent call last)",
      "\u001b[1;32m<ipython-input-170-b4b406c540a7>\u001b[0m in \u001b[0;36m<module>\u001b[1;34m\u001b[0m\n\u001b[0;32m      4\u001b[0m \u001b[0mb\u001b[0m\u001b[1;33m.\u001b[0m\u001b[0msort\u001b[0m\u001b[1;33m(\u001b[0m\u001b[0mreverse\u001b[0m\u001b[1;33m=\u001b[0m\u001b[1;32mTrue\u001b[0m\u001b[1;33m)\u001b[0m\u001b[1;33m\u001b[0m\u001b[1;33m\u001b[0m\u001b[0m\n\u001b[0;32m      5\u001b[0m \u001b[1;32mfor\u001b[0m \u001b[0mi\u001b[0m \u001b[1;32min\u001b[0m \u001b[0mrange\u001b[0m\u001b[1;33m(\u001b[0m\u001b[1;36m0\u001b[0m\u001b[1;33m,\u001b[0m\u001b[1;36m4\u001b[0m\u001b[1;33m,\u001b[0m\u001b[1;36m1\u001b[0m\u001b[1;33m)\u001b[0m\u001b[1;33m:\u001b[0m\u001b[1;33m\u001b[0m\u001b[1;33m\u001b[0m\u001b[0m\n\u001b[1;32m----> 6\u001b[1;33m     \u001b[0mc\u001b[0m\u001b[1;33m=\u001b[0m \u001b[0ma\u001b[0m\u001b[1;33m[\u001b[0m\u001b[0mi\u001b[0m\u001b[1;33m]\u001b[0m \u001b[1;33m+\u001b[0m \u001b[0mb\u001b[0m\u001b[1;33m[\u001b[0m\u001b[0mi\u001b[0m\u001b[1;33m]\u001b[0m\u001b[1;33m\u001b[0m\u001b[1;33m\u001b[0m\u001b[0m\n\u001b[0m\u001b[0;32m      7\u001b[0m     \u001b[0mprint\u001b[0m\u001b[1;33m(\u001b[0m\u001b[0mc\u001b[0m\u001b[1;33m)\u001b[0m\u001b[1;33m\u001b[0m\u001b[1;33m\u001b[0m\u001b[0m\n\u001b[0;32m      8\u001b[0m \u001b[1;33m\u001b[0m\u001b[0m\n",
      "\u001b[1;31mTypeError\u001b[0m: can only concatenate str (not \"int\") to str"
     ]
    }
   ],
   "source": [
    "a=['candy ','brain ','damu ','sujoy ']\n",
    "b=[ 90,95,60,79]\n",
    "a.sort()\n",
    "b.sort(reverse=True)\n",
    "for i in range(0,4,1):\n",
    "    c= a[i] + b[i]\n",
    "    print(c)\n",
    "    \n",
    "\n",
    "    \n",
    "    \n",
    "\n"
   ]
  },
  {
   "cell_type": "code",
   "execution_count": 59,
   "metadata": {},
   "outputs": [
    {
     "name": "stdout",
     "output_type": "stream",
     "text": [
      "candy\n",
      "brain\n",
      "brain\n",
      "sujoy\n"
     ]
    }
   ],
   "source": [
    "group(y='candy',z='brain',c='brain',d='sujoy')"
   ]
  },
  {
   "cell_type": "code",
   "execution_count": 40,
   "metadata": {},
   "outputs": [
    {
     "name": "stdout",
     "output_type": "stream",
     "text": [
      "['candy', 'brain', 'damu', 'sujoy']\n",
      "[95, 90, 79, 60]\n"
     ]
    }
   ],
   "source": [
    "\n",
    "b.sort(reverse=True)\n",
    "print(a)\n",
    "print(b)"
   ]
  },
  {
   "cell_type": "code",
   "execution_count": 43,
   "metadata": {},
   "outputs": [],
   "source": [
    "mul=lambda a,b,c:a*b*c"
   ]
  },
  {
   "cell_type": "code",
   "execution_count": 45,
   "metadata": {},
   "outputs": [
    {
     "data": {
      "text/plain": [
       "30"
      ]
     },
     "execution_count": 45,
     "metadata": {},
     "output_type": "execute_result"
    }
   ],
   "source": [
    "mul(2,3,5)"
   ]
  },
  {
   "cell_type": "code",
   "execution_count": 165,
   "metadata": {},
   "outputs": [
    {
     "name": "stdout",
     "output_type": "stream",
     "text": [
      "enter user name nikki\n",
      "enter password 588\n",
      "not autheticated person \n"
     ]
    }
   ],
   "source": [
    "user={\n",
    "    \"shravan\":\"06092000\",\n",
    "    \"nikki\":\"555\",\n",
    "    \"shaz\":\"333\"\n",
    "}\n",
    "def show(username,password):\n",
    "    if username in user and user[username]==password:\n",
    "        print(\"welcome to website\")\n",
    "    else:\n",
    "        print(\"not autheticated person \")\n",
    "a=input(\"enter user name \")\n",
    "\n",
    "\n",
    "b=input(\"enter password \")\n",
    "show(a,b)\n",
    "            "
   ]
  },
  {
   "cell_type": "code",
   "execution_count": 103,
   "metadata": {},
   "outputs": [
    {
     "name": "stdout",
     "output_type": "stream",
     "text": [
      "helloworld updated\n"
     ]
    }
   ],
   "source": [
    "print(\"helloworld updated\")"
   ]
  },
  {
   "cell_type": "code",
   "execution_count": 104,
   "metadata": {},
   "outputs": [
    {
     "data": {
      "text/plain": [
       "'0xa'"
      ]
     },
     "execution_count": 104,
     "metadata": {},
     "output_type": "execute_result"
    }
   ],
   "source": [
    "hex(10)"
   ]
  },
  {
   "cell_type": "code",
   "execution_count": 105,
   "metadata": {},
   "outputs": [
    {
     "data": {
      "text/plain": [
       "'0o12'"
      ]
     },
     "execution_count": 105,
     "metadata": {},
     "output_type": "execute_result"
    }
   ],
   "source": [
    "oct(10)"
   ]
  },
  {
   "cell_type": "code",
   "execution_count": 111,
   "metadata": {},
   "outputs": [
    {
     "data": {
      "text/plain": [
       "2305656422512"
      ]
     },
     "execution_count": 111,
     "metadata": {},
     "output_type": "execute_result"
    }
   ],
   "source": [
    "id()"
   ]
  },
  {
   "cell_type": "code",
   "execution_count": 137,
   "metadata": {},
   "outputs": [
    {
     "name": "stdout",
     "output_type": "stream",
     "text": [
      "wake up\n",
      "breakfast\n",
      "TV\n",
      "('Sherlock', 'The Big BangTheory', 'How I met your Mother')\n",
      "{'key2': 'reading', 'key3': 'coding', 'work': 'coding'}\n"
     ]
    }
   ],
   "source": [
    "def  routine (p,q,r,*s, **kwargs) :\n",
    "    print(p)\n",
    "    print(q)\n",
    "    print(r)\n",
    "    print(s)\n",
    "    print(kwargs)\n",
    "routine( \"wake up\" , \"breakfast\" , \"TV\" , \"Sherlock\" , \"The Big BangTheory\" ,\"How I met your Mother\" , \n",
    "        key2=\"reading\" ,key3=\"coding\", work=\"coding\" )\n",
    "\n"
   ]
  },
  {
   "cell_type": "code",
   "execution_count": 130,
   "metadata": {},
   "outputs": [
    {
     "name": "stdout",
     "output_type": "stream",
     "text": [
      "wake up\n",
      "breakfast\n",
      "TV\n",
      "('Sherlock', 'The Big BangTheory', 'How I met your Mother')\n",
      "reading\n",
      "coding\n"
     ]
    }
   ],
   "source": [
    "def  routine (p,q,r,*s,d= \"coding\" , e= \"reading\" ) :\n",
    "    print(p)\n",
    "    print(q)\n",
    "    print(r)\n",
    "    print(s)\n",
    "    print(d)\n",
    "    print(e)\n",
    "routine( \"wake up\" , \"breakfast\" , \"TV\" , \"Sherlock\" , \"The Big BangTheory\" ,  \"How I met your Mother\" , \n",
    "        d=  \"reading\" ,e= \"coding\" )\n"
   ]
  },
  {
   "cell_type": "code",
   "execution_count": 140,
   "metadata": {},
   "outputs": [
    {
     "name": "stdout",
     "output_type": "stream",
     "text": [
      "Rahul 46 2\n"
     ]
    }
   ],
   "source": [
    "#Assignment 3 : self study \n",
    "a='Robin age 45 salary 1 Lakh . Rahul age 46 salary 2 Lakh . Ramya age 39 salary 1.5 Lakh'\n",
    "c=a.split()\n",
    "b=['Rahul']\n",
    "\n",
    "for g in b:  \n",
    "    for j,i in enumerate(c):\n",
    "\n",
    "        flag=0\n",
    "        if i==g :\n",
    "            print (g,end=' ')\n",
    "            for j,f in enumerate(c):\n",
    "\n",
    "                if f!=g  and flag==0:\n",
    "                    \n",
    "                    continue\n",
    "                else :\n",
    "                    flag=1\n",
    "                    \n",
    "                if f=='.' and i==g:\n",
    "                     break\n",
    "\n",
    "                if f=='age' and flag==1 :\n",
    "                    print (c[j+1],end=' ')\n",
    "\n",
    "                if f=='salary' and flag==1 :\n",
    "                        print (c[j+1])\n"
   ]
  },
  {
   "cell_type": "code",
   "execution_count": 139,
   "metadata": {},
   "outputs": [
    {
     "name": "stdout",
     "output_type": "stream",
     "text": [
      "['Robin', 'age', '45', 'salary', '1', 'Lakh', '.', 'Rahul', 'age', '46', 'salary', '2', 'Lakh', '.', 'Ramya', 'age', '39', 'salary', '1.5', 'Lakh']\n",
      "['Rahul']\n"
     ]
    }
   ],
   "source": [
    "a='Robin age 45 salary 1 Lakh . Rahul age 46 salary 2 Lakh . Ramya age 39 salary 1.5 Lakh'\n",
    "c=a.split()\n",
    "b=['Rahul']\n",
    "print(c)\n",
    "print(b)"
   ]
  },
  {
   "cell_type": "code",
   "execution_count": 163,
   "metadata": {},
   "outputs": [
    {
     "name": "stdout",
     "output_type": "stream",
     "text": [
      "Ramesh is 18 year rameshwaram. Ramesh works in isro. I think ramesh stays in bangalore. "
     ]
    }
   ],
   "source": [
    "a= 'Ramesh is 18 year rameshwaram . raMeSh works in ISRO . I think ramesH stays in Bangalore '\n",
    "sentence=a.split('.')\n",
    "for i in sentence:\n",
    "     print (i.strip().capitalize()+\". \",end='')\n",
    "\n",
    "\n",
    "\n"
   ]
  },
  {
   "cell_type": "code",
   "execution_count": null,
   "metadata": {},
   "outputs": [],
   "source": []
  }
 ],
 "metadata": {
  "kernelspec": {
   "display_name": "Python 3",
   "language": "python",
   "name": "python3"
  },
  "language_info": {
   "codemirror_mode": {
    "name": "ipython",
    "version": 3
   },
   "file_extension": ".py",
   "mimetype": "text/x-python",
   "name": "python",
   "nbconvert_exporter": "python",
   "pygments_lexer": "ipython3",
   "version": "3.7.6"
  }
 },
 "nbformat": 4,
 "nbformat_minor": 4
}

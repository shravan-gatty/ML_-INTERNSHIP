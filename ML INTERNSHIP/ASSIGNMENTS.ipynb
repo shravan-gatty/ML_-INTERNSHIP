{
 "cells": [
  {
   "cell_type": "markdown",
   "metadata": {},
   "source": [
    "## Assignment 4"
   ]
  },
  {
   "cell_type": "code",
   "execution_count": 1,
   "metadata": {},
   "outputs": [
    {
     "name": "stdout",
     "output_type": "stream",
     "text": [
      "Ramesh is 18 year rameshwaram. Ramesh works in isro. I think ramesh stays in bangalore. "
     ]
    }
   ],
   "source": [
    "a= 'Ramesh is 18 year rameshwaram . raMeSh works in ISRO . I think ramesH stays in Bangalore '\n",
    "sentence=a.split('.')\n",
    "for i in sentence:\n",
    "     print (i.strip().capitalize()+\". \",end='') \n"
   ]
  },
  {
   "cell_type": "markdown",
   "metadata": {},
   "source": [
    "##### Assignment 6 :  abcdefghijklmnopqrstuvwxyz\n",
    "                           "
   ]
  },
  {
   "cell_type": "code",
   "execution_count": 16,
   "metadata": {},
   "outputs": [
    {
     "name": "stdout",
     "output_type": "stream",
     "text": [
      "{'a': 1, 'b': 2, 'c': 3, 'd': 4, 'e': 5, 'f': 6, 'g': 7, 'h': 8, 'i': 9, 'j': 10, 'k': 11, 'l': 12, 'm': 13, 'n': 14, 'o': 15, 'p': 16, 'q': 17, 'r': 18, 's': 19, 't': 20, 'u': 21, 'v': 22, 'w': 23, 'x': 24, 'y': 25, 'z': 26}\n",
      "enter your name: shravan\n",
      "19 8 18 1 22 1 14 "
     ]
    }
   ],
   "source": [
    "alph=\"abcdefghijklmnopqrstuvwxyz\"\n",
    "d={}\n",
    "count=0\n",
    "for i in alph:\n",
    "    count+=1\n",
    "    d[i]=count\n",
    "print(d) \n",
    "name=input(\"enter your name: \")\n",
    "for i in name:\n",
    "    print(d[i],end=\" \")"
   ]
  },
  {
   "cell_type": "markdown",
   "metadata": {},
   "source": [
    "##### assignment 7:"
   ]
  },
  {
   "cell_type": "code",
   "execution_count": 18,
   "metadata": {},
   "outputs": [
    {
     "name": "stdout",
     "output_type": "stream",
     "text": [
      "brain 95\n",
      "candy 90\n",
      "damu 79\n",
      "sujoy 60\n"
     ]
    }
   ],
   "source": [
    "a=['candy ','brain ','damu ','sujoy ']\n",
    "b=[ 90,95,60,79]\n",
    "a.sort()\n",
    "b.sort(reverse=True)\n",
    "for i in range(0,4,1):\n",
    "    c= a[i] + str( b[i])  #this program some mistake correct is sujoy 79 damu 60 sorting string is it will go\n",
    "    print(c)            #according to alphabetical order\n",
    "    "
   ]
  },
  {
   "cell_type": "code",
   "execution_count": 17,
   "metadata": {},
   "outputs": [
    {
     "name": "stdout",
     "output_type": "stream",
     "text": [
      "enter user name nikki\n",
      "enter password 555\n",
      "welcome to website\n"
     ]
    }
   ],
   "source": [
    "#password  and username\n",
    "user={\n",
    "    \"shravan\":\"06092000\",\n",
    "    \"nikki\":\"555\",\n",
    "    \"shaz\":\"333\"\n",
    "}\n",
    "def show(username,password):\n",
    "    if username in user and user[username]==password:\n",
    "        print(\"welcome to website\")\n",
    "    else:\n",
    "        print(\"not autheticated person \")\n",
    "a=input(\"enter user name \")\n",
    "\n",
    "\n",
    "b=input(\"enter password \")\n",
    "show(a,b)"
   ]
  },
  {
   "cell_type": "code",
   "execution_count": null,
   "metadata": {},
   "outputs": [],
   "source": []
  }
 ],
 "metadata": {
  "kernelspec": {
   "display_name": "Python 3",
   "language": "python",
   "name": "python3"
  },
  "language_info": {
   "codemirror_mode": {
    "name": "ipython",
    "version": 3
   },
   "file_extension": ".py",
   "mimetype": "text/x-python",
   "name": "python",
   "nbconvert_exporter": "python",
   "pygments_lexer": "ipython3",
   "version": "3.7.6"
  }
 },
 "nbformat": 4,
 "nbformat_minor": 4
}
